{
 "cells": [
  {
   "cell_type": "markdown",
   "metadata": {},
   "source": [
    "# Nth roots of unity\n",
    "\n",
    "Nth roots of unity are the values that satisfy the following.\n",
    "\n",
    "$$\n",
    "z^n=1\n",
    "$$\n",
    "\n",
    "In polar representation, the roots can be expressed as follows.\n",
    "\n",
    "$$\n",
    "z=e^{2\\pi i/n}\n",
    "$$"
   ]
  },
  {
   "cell_type": "code",
   "execution_count": 14,
   "metadata": {},
   "outputs": [
    {
     "name": "stdout",
     "output_type": "stream",
     "text": [
      "1\t[1]\n",
      "2\t[-1, 1]\n",
      "3\t[1, -1/2 - sqrt(3)*I/2, -1/2 + sqrt(3)*I/2]\n",
      "4\t[-1, 1, -I, I]\n",
      "5\t[1, -1/4 + sqrt(5)/4 - I*sqrt(sqrt(5)/8 + 5/8), -1/4 + sqrt(5)/4 + I*sqrt(sqrt(5)/8 + 5/8), -sqrt(5)/4 - 1/4 - I*sqrt(5/8 - sqrt(5)/8), -sqrt(5)/4 - 1/4 + I*sqrt(5/8 - sqrt(5)/8)]\n",
      "6\t[-1, 1, -1/2 - sqrt(3)*I/2, -1/2 + sqrt(3)*I/2, 1/2 - sqrt(3)*I/2, 1/2 + sqrt(3)*I/2]\n",
      "7\t[1, -cos(pi/7) - I*sin(pi/7), -cos(pi/7) + I*sin(pi/7), cos(2*pi/7) - I*sin(2*pi/7), cos(2*pi/7) + I*sin(2*pi/7), -cos(3*pi/7) - I*sin(3*pi/7), -cos(3*pi/7) + I*sin(3*pi/7)]\n",
      "8\t[-1, 1, -I, I, -sqrt(2)/2 - sqrt(2)*I/2, -sqrt(2)/2 + sqrt(2)*I/2, sqrt(2)/2 - sqrt(2)*I/2, sqrt(2)/2 + sqrt(2)*I/2]\n",
      "9\t[1, -1/2 - sqrt(3)*I/2, -1/2 + sqrt(3)*I/2, -cos(pi/9) - I*sin(pi/9), -cos(pi/9) + I*sin(pi/9), cos(2*pi/9) - I*sin(2*pi/9), cos(2*pi/9) + I*sin(2*pi/9), cos(4*pi/9) - I*sin(4*pi/9), cos(4*pi/9) + I*sin(4*pi/9)]\n"
     ]
    }
   ],
   "source": [
    "import sympy\n",
    "from sympy import solve, symbols, arg, simplify\n",
    "\n",
    "z = symbols(\"z\")\n",
    "for i in range(1,10):\n",
    "    res = solve(z ** i - 1, z)\n",
    "    print(f\"{i}\\t{res}\")"
   ]
  },
  {
   "cell_type": "markdown",
   "metadata": {},
   "source": [
    "The following code shows only the angles."
   ]
  },
  {
   "cell_type": "code",
   "execution_count": 13,
   "metadata": {},
   "outputs": [
    {
     "name": "stdout",
     "output_type": "stream",
     "text": [
      "1\t[0]\n",
      "2\t[pi, 0]\n",
      "3\t[0, -2*pi/3, 2*pi/3]\n",
      "4\t[pi, 0, -pi/2, pi/2]\n",
      "5\t[0, -atan(sqrt(2)*sqrt(sqrt(5) + 5)/(-1 + sqrt(5))), atan(sqrt(2)*sqrt(sqrt(5) + 5)/(-1 + sqrt(5))), -pi - atan(sqrt(2)*sqrt(5 - sqrt(5))/(-sqrt(5) - 1)), atan(sqrt(2)*sqrt(5 - sqrt(5))/(-sqrt(5) - 1)) + pi]\n",
      "6\t[pi, 0, -2*pi/3, 2*pi/3, -pi/3, pi/3]\n",
      "7\t[0, -pi + atan(sin(pi/7)/cos(pi/7)), pi - atan(sin(pi/7)/cos(pi/7)), -atan(sin(2*pi/7)/cos(2*pi/7)), atan(sin(2*pi/7)/cos(2*pi/7)), -pi + atan(sin(3*pi/7)/cos(3*pi/7)), pi - atan(sin(3*pi/7)/cos(3*pi/7))]\n",
      "8\t[pi, 0, -pi/2, pi/2, -3*pi/4, 3*pi/4, -pi/4, pi/4]\n",
      "9\t[0, -2*pi/3, 2*pi/3, -pi + atan(sin(pi/9)/cos(pi/9)), pi - atan(sin(pi/9)/cos(pi/9)), -atan(sin(2*pi/9)/cos(2*pi/9)), atan(sin(2*pi/9)/cos(2*pi/9)), -atan(sin(4*pi/9)/cos(4*pi/9)), atan(sin(4*pi/9)/cos(4*pi/9))]\n"
     ]
    }
   ],
   "source": [
    "z = symbols(\"z\")\n",
    "for i in range(1,10):\n",
    "    res = solve(z ** i - 1, z)\n",
    "    lst=[]\n",
    "    for c in res:\n",
    "        lst.append(arg(c))\n",
    "    print(f\"{i}\\t{lst}\")"
   ]
  }
 ],
 "metadata": {
  "kernelspec": {
   "display_name": "Python 3",
   "language": "python",
   "name": "python3"
  },
  "language_info": {
   "codemirror_mode": {
    "name": "ipython",
    "version": 3
   },
   "file_extension": ".py",
   "mimetype": "text/x-python",
   "name": "python",
   "nbconvert_exporter": "python",
   "pygments_lexer": "ipython3",
   "version": "3.11.5"
  }
 },
 "nbformat": 4,
 "nbformat_minor": 2
}
